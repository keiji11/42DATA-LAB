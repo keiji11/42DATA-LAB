{
 "cells": [
  {
   "cell_type": "code",
   "execution_count": null,
   "metadata": {},
   "outputs": [],
   "source": [
    "import pandas as pd\n",
    "\n",
    "df_salaries = pd.read_csv('./datasets/Salaries.csv')\n",
    "df_titles = pd.read_csv('./datasets/titles.csv')"
   ]
  },
  {
   "cell_type": "markdown",
   "metadata": {},
   "source": [
    "## 1. Check the head of datasets"
   ]
  },
  {
   "cell_type": "code",
   "execution_count": null,
   "metadata": {},
   "outputs": [],
   "source": [
    "salary_head = df_salaries.head()\n",
    "print(salary_head)"
   ]
  },
  {
   "cell_type": "markdown",
   "metadata": {},
   "source": [
    "## 2. Use the `.info()` method to find out how many entries there are"
   ]
  },
  {
   "cell_type": "code",
   "execution_count": null,
   "metadata": {},
   "outputs": [],
   "source": [
    "df_salaries.info(verbose=False, show_counts=False)"
   ]
  },
  {
   "cell_type": "markdown",
   "metadata": {},
   "source": [
    "## 3. Check the highest amount of OvertimePay in the dataset"
   ]
  },
  {
   "cell_type": "code",
   "execution_count": null,
   "metadata": {},
   "outputs": [],
   "source": [
    "max_OvertimePay = df_salaries['OvertimePay'].max()\n",
    "print(max_OvertimePay)"
   ]
  },
  {
   "cell_type": "markdown",
   "metadata": {},
   "source": [
    "## 4. What is the job title of JOSEPH DRISCOLL?"
   ]
  },
  {
   "cell_type": "code",
   "execution_count": null,
   "metadata": {},
   "outputs": [],
   "source": [
    "JD = df_salaries[df_salaries['EmployeeName'] == 'JOSEPH DRISCOLL']['JobTitle']\n",
    "print(JD)"
   ]
  },
  {
   "cell_type": "markdown",
   "metadata": {},
   "source": [
    "## 5. How much does JOSEPH DRISCOLL make (including benefits)?"
   ]
  },
  {
   "cell_type": "code",
   "execution_count": null,
   "metadata": {},
   "outputs": [],
   "source": [
    "JD_salary = df_salaries[df_salaries['EmployeeName'] == 'JOSEPH DRISCOLL']['TotalPayBenefits']\n",
    "print(JD_salary)"
   ]
  },
  {
   "cell_type": "markdown",
   "metadata": {},
   "source": [
    "## 6. What is the name of highest paid person (including benefits)?"
   ]
  },
  {
   "cell_type": "code",
   "execution_count": null,
   "metadata": {},
   "outputs": [],
   "source": [
    "df_salaries2 = pd.read_csv('./datasets/Salaries.csv', usecols=['EmployeeName', 'TotalPayBenefits'])\n",
    "max_paid = df_salaries[df_salaries2['TotalPayBenefits'] == df_salaries2['TotalPayBenefits'].max()]['EmployeeName']\n",
    "print(max_paid)"
   ]
  },
  {
   "cell_type": "markdown",
   "metadata": {},
   "source": [
    "## 7. What is the name of lowest paid person (including benefits)?"
   ]
  },
  {
   "cell_type": "code",
   "execution_count": null,
   "metadata": {},
   "outputs": [],
   "source": [
    "min_paid = df_salaries[df_salaries2['TotalPayBenefits'] == df_salaries2['TotalPayBenefits'].min()]['EmployeeName']\n",
    "print(min_paid)"
   ]
  },
  {
   "cell_type": "markdown",
   "metadata": {},
   "source": [
    "## 8. What was the average (mean) BasePay of all the employees per year? (2011-2014)"
   ]
  },
  {
   "cell_type": "code",
   "execution_count": null,
   "metadata": {},
   "outputs": [],
   "source": [
    "df_salaries3 = pd.read_csv('./datasets/Salaries.csv', usecols=['BasePay'])\n",
    "mean_base_pay = df_salaries3['BasePay'].mean()\n",
    "print('{:.2f}'.format(mean_base_pay))"
   ]
  },
  {
   "cell_type": "markdown",
   "metadata": {},
   "source": [
    "## 9. How many unique job titles are there?"
   ]
  },
  {
   "cell_type": "code",
   "execution_count": null,
   "metadata": {},
   "outputs": [],
   "source": [
    "df_salaries4 = pd.read_csv('./datasets/Salaries.csv', usecols=['JobTitle'])\n",
    "unique_job_titles = df_salaries4['JobTitle'].nunique()\n",
    "print(unique_job_titles)"
   ]
  },
  {
   "cell_type": "markdown",
   "metadata": {},
   "source": [
    "## 10. What are the top 5 most common jobs?"
   ]
  },
  {
   "cell_type": "code",
   "execution_count": null,
   "metadata": {},
   "outputs": [],
   "source": [
    "top_5_jobs = df_salaries4['JobTitle'].value_counts().head(5)\n",
    "print(top_5_jobs)"
   ]
  },
  {
   "cell_type": "markdown",
   "metadata": {},
   "source": [
    "## 11. How many Job Titles were represented by only one person in 2013?(Job Titles with only one occurence in 2013?)"
   ]
  },
  {
   "cell_type": "code",
   "execution_count": null,
   "metadata": {},
   "outputs": [],
   "source": [
    "df_salaries5 = pd.read_csv('./datasets/Salaries.csv', usecols=['JobTitle', 'Year'])\n",
    "df_salaries5['JobTitle'] = df_salaries5['JobTitle'].str.lower()\n",
    "df_salaries_2013 = df_salaries5[df_salaries5['Year'] == 2013]\n",
    "df_salaries5_counts = df_salaries_2013['JobTitle'].value_counts()\n",
    "unique_job_titles_represented = df_salaries5_counts[df_salaries5_counts == 1]\n",
    "print(len(unique_job_titles_represented))"
   ]
  },
  {
   "cell_type": "markdown",
   "metadata": {},
   "source": [
    "## 12. How many people have the word Chief in their job title?"
   ]
  },
  {
   "cell_type": "code",
   "execution_count": null,
   "metadata": {},
   "outputs": [],
   "source": [
    "df_salaries4_12 = df_salaries4['JobTitle'].str.lower()\n",
    "sal_list = list(df_salaries4_12.values)\n",
    "count_chief = 0\n",
    "for i in sal_list:\n",
    "  if 'chief' in i:\n",
    "      count_chief += 1\n",
    "print(count_chief)"
   ]
  }
 ],
 "metadata": {
  "language_info": {
   "name": "python"
  },
  "orig_nbformat": 4
 },
 "nbformat": 4,
 "nbformat_minor": 2
}
