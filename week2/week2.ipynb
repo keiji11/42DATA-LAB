{
  "nbformat": 4,
  "nbformat_minor": 0,
  "metadata": {
    "colab": {
      "name": "week2.ipynb",
      "provenance": [],
      "collapsed_sections": []
    },
    "kernelspec": {
      "name": "python3",
      "display_name": "Python 3"
    },
    "language_info": {
      "name": "python"
    }
  },
  "cells": [
    {
      "cell_type": "markdown",
      "source": [
        "PART 1"
      ],
      "metadata": {
        "id": "qTv3w8BAtiZu"
      }
    },
    {
      "cell_type": "code",
      "source": [
        "import numpy as np\n",
        "\n",
        "print(\"1.Create an array of ten zeros:\")\n",
        "# 1.Create an array of ten zeros\n",
        "a = np.zeros(10)\n",
        "print(a)\n",
        "print(\"\")\n",
        "print(\"2.Create an array of ten ones:\")\n",
        "# 2.Create an array of ten ones\n",
        "b = np.ones(10)\n",
        "print(b)\n",
        "print(\"\")\n",
        "print(\"3.Create an array of integers from 10 to 50:\")\n",
        "# 3.Create an array of integers from 10 to 50\n",
        "c = np.arange(10, 51)\n",
        "print(c)\n",
        "print(\"\")\n",
        "print(\"4.Create an array of all the even integers from 10 to 50:\")\n",
        "# 4.Create an array of all the even integers from 10 to 50\n",
        "d = np.arange(10, 51, 2)\n",
        "print(d)\n",
        "print(\"\")\n",
        "print(\"5.Create a 3x3 identity matrix:\")\n",
        "# 5.Create a 3x3 identity matrix\n",
        "e = np.eye(3)\n",
        "print(e)\n",
        "print(\"\")\n",
        "print(\"6.Generate a random number between 0 and 1:\")\n",
        "# 6.Generate a random number between 0 and 1\n",
        "f = np.random.random(1)\n",
        "print(f)\n",
        "print(\"\")\n",
        "print(\"7.Create the following matrix: array([0. , 0.11111111, 0.22222222, 0.33333333, 0.44444444, 0.55555555,# 0.66666667, 0.77777778, 0.88888889, 1. ]):\")\n",
        "# 7. Create the following matrix:\n",
        "# array([0. , 0.11111111, 0.22222222, 0.33333333, 0.44444444, 0.55555555,# 0.66666667, 0.77777778, 0.88888889, 1. ])\n",
        "g = np.linspace(0, 1, 10)\n",
        "print(g)\n",
        "print(\"\")"
      ],
      "metadata": {
        "colab": {
          "base_uri": "https://localhost:8080/"
        },
        "id": "D1wzESHfLJkc",
        "outputId": "43a63263-a55f-468a-d185-4325b4613679"
      },
      "execution_count": null,
      "outputs": [
        {
          "output_type": "stream",
          "name": "stdout",
          "text": [
            "1.Create an array of ten zeros:\n",
            "[0. 0. 0. 0. 0. 0. 0. 0. 0. 0.]\n",
            "\n",
            "2.Create an array of ten ones:\n",
            "[1. 1. 1. 1. 1. 1. 1. 1. 1. 1.]\n",
            "\n",
            "3.Create an array of integers from 10 to 50:\n",
            "[10 11 12 13 14 15 16 17 18 19 20 21 22 23 24 25 26 27 28 29 30 31 32 33\n",
            " 34 35 36 37 38 39 40 41 42 43 44 45 46 47 48 49 50]\n",
            "\n",
            "4.Create an array of all the even integers from 10 to 50:\n",
            "[10 12 14 16 18 20 22 24 26 28 30 32 34 36 38 40 42 44 46 48 50]\n",
            "\n",
            "5.Create a 3x3 identity matrix:\n",
            "[[1. 0. 0.]\n",
            " [0. 1. 0.]\n",
            " [0. 0. 1.]]\n",
            "\n",
            "6.Generate a random number between 0 and 1:\n",
            "[0.03418485]\n",
            "\n",
            "7.Create the following matrix: array([0. , 0.11111111, 0.22222222, 0.33333333, 0.44444444, 0.55555555,# 0.66666667, 0.77777778, 0.88888889, 1. ]):\n",
            "[0.         0.11111111 0.22222222 0.33333333 0.44444444 0.55555556\n",
            " 0.66666667 0.77777778 0.88888889 1.        ]\n",
            "\n"
          ]
        }
      ]
    },
    {
      "cell_type": "markdown",
      "source": [
        "PART 2"
      ],
      "metadata": {
        "id": "iu3fYFnvtZC7"
      }
    },
    {
      "cell_type": "code",
      "source": [
        "import matplotlib.pyplot as plt\n",
        "\n",
        "# 1. Create a matrix of random values of distribution of your choice\n",
        "def create_matrix(m):\n",
        "  matrix1 = np.empty(shape=(m, m))\n",
        "  arr1 = np.random.randint(100, size=m)\n",
        "  for i in range(m):\n",
        "      matrix1[i] = np.random.choice(arr1, m, p=[0.1, 0.05, 0.05, 0.2, 0.4, 0.2])\n",
        "  return matrix1\n",
        "print(create_matrix(6))"
      ],
      "metadata": {
        "colab": {
          "base_uri": "https://localhost:8080/"
        },
        "id": "slUFXMEhtHwN",
        "outputId": "0903f85e-e793-4379-bb93-a2bdd3e12772"
      },
      "execution_count": 20,
      "outputs": [
        {
          "output_type": "stream",
          "name": "stdout",
          "text": [
            "[[ 2. 44. 32.  2.  2. 32.]\n",
            " [ 2. 29. 32. 42.  2. 32.]\n",
            " [32. 32. 42.  2. 42.  2.]\n",
            " [ 2. 32.  2.  2.  2. 32.]\n",
            " [ 2. 44. 29. 42.  2. 42.]\n",
            " [44.  2. 42. 42.  2. 32.]]\n"
          ]
        }
      ]
    },
    {
      "cell_type": "code",
      "source": [
        "# 2. Create a 1-dimensional array of 12 sequential numbers\n",
        "array = np.arange(12)\n",
        "# convert it to a 4x3 array\n",
        "matrix2 = array.reshape(4, 3)\n",
        "print(matrix2)"
      ],
      "metadata": {
        "colab": {
          "base_uri": "https://localhost:8080/"
        },
        "id": "dEDKLI38tngW",
        "outputId": "47777d3a-9ef5-4f31-a51a-a2811dd5bd15"
      },
      "execution_count": null,
      "outputs": [
        {
          "output_type": "stream",
          "name": "stdout",
          "text": [
            "[[ 0  1  2]\n",
            " [ 3  4  5]\n",
            " [ 6  7  8]\n",
            " [ 9 10 11]]\n"
          ]
        }
      ]
    },
    {
      "cell_type": "code",
      "source": [
        "# 3. Write a function that creates an incremental array of dimension (1, n) with values between 0 and 1\n",
        "def incremental_array(n):\n",
        "    return np.linspace(0, 1, n)\n",
        "\n",
        "arr3 = incremental_array(10)\n",
        "print(arr3)"
      ],
      "metadata": {
        "colab": {
          "base_uri": "https://localhost:8080/"
        },
        "id": "KvgUMDcytzND",
        "outputId": "5b2cdd51-3e68-4865-8987-7784be191f24"
      },
      "execution_count": null,
      "outputs": [
        {
          "output_type": "stream",
          "name": "stdout",
          "text": [
            "[0.         0.11111111 0.22222222 0.33333333 0.44444444 0.55555556\n",
            " 0.66666667 0.77777778 0.88888889 1.        ]\n"
          ]
        }
      ]
    },
    {
      "cell_type": "code",
      "source": [
        "# 4. Generate a 10x12 array and extract row 0-4 of columns 8-12\n",
        "matrix4 = np.arange(120).reshape(10, 12)\n",
        "row = matrix4[0:5, 8:12]\n",
        "print(row)"
      ],
      "metadata": {
        "colab": {
          "base_uri": "https://localhost:8080/"
        },
        "id": "cuTe9Q91t9bP",
        "outputId": "4e1fe4fb-c2df-42d6-f399-ba810d77a2b6"
      },
      "execution_count": null,
      "outputs": [
        {
          "output_type": "stream",
          "name": "stdout",
          "text": [
            "[[ 8  9 10 11]\n",
            " [20 21 22 23]\n",
            " [32 33 34 35]\n",
            " [44 45 46 47]\n",
            " [56 57 58 59]]\n"
          ]
        }
      ]
    },
    {
      "cell_type": "code",
      "source": [
        "# 5. Using the function in Q3, get m vectors and bind them together to create a matrix m x n.\n",
        "#    Plot the matrix with matplotlib's imshow\n",
        "def create_matrix2(m, n):\n",
        "  mat = incremental_array((m*n)).reshape(m, n)\n",
        "  fig, axe = plt.subplots()\n",
        "  for i in range(m):\n",
        "      for j in range(n):\n",
        "          mat[i, j] = i + j\n",
        "  return mat\n",
        "mat5 = create_matrix2(3, 4)\n",
        "print(mat5)\n",
        "\n",
        "plt.imshow(mat5)"
      ],
      "metadata": {
        "colab": {
          "base_uri": "https://localhost:8080/",
          "height": 342
        },
        "id": "I-yYNOXtuDHA",
        "outputId": "34c33f12-2ed0-4a15-ec46-76707516dd4c"
      },
      "execution_count": 25,
      "outputs": [
        {
          "output_type": "stream",
          "name": "stdout",
          "text": [
            "[[0. 1. 2. 3.]\n",
            " [1. 2. 3. 4.]\n",
            " [2. 3. 4. 5.]]\n"
          ]
        },
        {
          "output_type": "execute_result",
          "data": {
            "text/plain": [
              "<matplotlib.image.AxesImage at 0x7fa647ef5a90>"
            ]
          },
          "metadata": {},
          "execution_count": 25
        },
        {
          "output_type": "display_data",
          "data": {
            "text/plain": [
              "<Figure size 432x288 with 1 Axes>"
            ],
            "image/png": "[encoded data removed]"
          },
          "metadata": {
            "needs_background": "light"
          }
        }
      ]
    },
    {
      "cell_type": "code",
      "source": [
        "# 6. Multiply mat5 with another matrix and plot the result\n",
        "def create_matrix3(m, n):\n",
        "  matrix = np.empty(shape=(m, n))\n",
        "  for i in range(m):\n",
        "      for j in range(n):\n",
        "          matrix[i, j] = np.random.randint(100)\n",
        "  return matrix\n",
        "\n",
        "mat6 = create_matrix3(3, 4)\n",
        "plt.imshow(mat5 * mat6)"
      ],
      "metadata": {
        "colab": {
          "base_uri": "https://localhost:8080/",
          "height": 287
        },
        "id": "UMIJRpnRvmX2",
        "outputId": "2a934cb2-096d-47f3-c6b9-f34a8b42c00f"
      },
      "execution_count": 33,
      "outputs": [
        {
          "output_type": "execute_result",
          "data": {
            "text/plain": [
              "<matplotlib.image.AxesImage at 0x7fa64483a1d0>"
            ]
          },
          "metadata": {},
          "execution_count": 33
        },
        {
          "output_type": "display_data",
          "data": {
            "text/plain": [
              "<Figure size 432x288 with 1 Axes>"
            ],
            "image/png": "[encoded data removed]"
          },
          "metadata": {
            "needs_background": "light"
          }
        }
      ]
    }
  ]
}